{
 "cells": [
  {
   "cell_type": "code",
   "execution_count": 1,
   "metadata": {},
   "outputs": [
    {
     "name": "stdout",
     "output_type": "stream",
     "text": [
      "Error reading file: [Errno 2] No such file or directory: 'data.json'\n"
     ]
    },
    {
     "name": "stderr",
     "output_type": "stream",
     "text": [
      "/Library/Frameworks/Python.framework/Versions/3.10/lib/python3.10/site-packages/sklearn/base.py:376: InconsistentVersionWarning: Trying to unpickle estimator LogisticRegression from version 1.5.2 when using version 1.4.1.post1. This might lead to breaking code or invalid results. Use at your own risk. For more info please refer to:\n",
      "https://scikit-learn.org/stable/model_persistence.html#security-maintainability-limitations\n",
      "  warnings.warn(\n"
     ]
    }
   ],
   "source": [
    "import sys\n",
    "import json\n",
    "import numpy as np\n",
    "import pandas as pd\n",
    "import joblib\n",
    "\n",
    "# Load the pre-trained logistic regression model\n",
    "logistic_model_path = 'logistic_model.pkl'\n",
    "logistic_model = joblib.load(logistic_model_path)\n",
    "\n",
    "# Load the pre-trained Gradient Boosting Classifier model\n",
    "gb_model_path = 'gb_model.pkl'\n",
    "gb = joblib.load(gb_model_path)\n",
    "\n",
    "def predict_shot(input_data):\n",
    "    df = pd.DataFrame([input_data])\n",
    "    df['location'] = np.where(df['location'] == 'H', 1, 0)\n",
    "    df['w'] = np.where(df['w'] == 'W', 1, 0)\n",
    "\n",
    "    # Use logistic regression model for prediction\n",
    "    # prediction = logistic_model.predict(df)\n",
    "    # probability = logistic_model.predict_proba(df)[:, 1]\n",
    "\n",
    "    # Use Gradient Boosting model for prediction\n",
    "    gb_prediction = gb.predict(df)\n",
    "    gb_probability = gb.predict_proba(df)[:, 1]\n",
    "\n",
    "    return {\n",
    "        'gb_prediction': 'made' if gb_prediction[0] == 1 else 'missed',\n",
    "        'gb_probability': float(gb_probability[0])\n",
    "    }\n",
    "\n",
    "def main():\n",
    "    # Directly read input data from data.json\n",
    "    try:\n",
    "        with open('data.json', 'r') as f:\n",
    "            input_data = json.load(f)\n",
    "    except json.JSONDecodeError as e:\n",
    "        print(f\"Error decoding JSON: {e}\")\n",
    "        return\n",
    "    except Exception as e:\n",
    "        print(f\"Error reading file: {e}\")\n",
    "        return\n",
    "\n",
    "    # Validate required keys in input data\n",
    "    required_keys = ['shot_clock', 'shot_dist', 'close_def_dist', 'period', 'touch_time', 'dribbles', 'shot_number', 'pts_type', 'location', 'w']\n",
    "    if not all(key in input_data for key in required_keys):\n",
    "        print(f\"Input data is missing one of the required keys: {required_keys}\")\n",
    "        return\n",
    "\n",
    "    # Call the prediction function\n",
    "    prediction_result = predict_shot(input_data)\n",
    "\n",
    "    # Print the prediction result as JSON\n",
    "    print(json.dumps(prediction_result))\n",
    "\n",
    "if __name__ == \"__main__\":\n",
    "    main()\n"
   ]
  }
 ],
 "metadata": {
  "kernelspec": {
   "display_name": "Python 3",
   "language": "python",
   "name": "python3"
  },
  "language_info": {
   "codemirror_mode": {
    "name": "ipython",
    "version": 3
   },
   "file_extension": ".py",
   "mimetype": "text/x-python",
   "name": "python",
   "nbconvert_exporter": "python",
   "pygments_lexer": "ipython3",
   "version": "3.10.8"
  }
 },
 "nbformat": 4,
 "nbformat_minor": 2
}
